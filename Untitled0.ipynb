{
  "nbformat": 4,
  "nbformat_minor": 0,
  "metadata": {
    "colab": {
      "provenance": [],
      "authorship_tag": "ABX9TyNa+ZwEfaubZ1GOIFznOC4e",
      "include_colab_link": true
    },
    "kernelspec": {
      "name": "python3",
      "display_name": "Python 3"
    },
    "language_info": {
      "name": "python"
    }
  },
  "cells": [
    {
      "cell_type": "markdown",
      "metadata": {
        "id": "view-in-github",
        "colab_type": "text"
      },
      "source": [
        "<a href=\"https://colab.research.google.com/github/Derickpy/Exemplo_Colab/blob/main/Untitled0.ipynb\" target=\"_parent\"><img src=\"https://colab.research.google.com/assets/colab-badge.svg\" alt=\"Open In Colab\"/></a>"
      ]
    },
    {
      "cell_type": "code",
      "source": [
        "class Cor:\n",
        "    def __init__(self, vermelho, verde, azul, branco, preto):\n",
        "        self.vermelho = vermelho\n",
        "        self.verde = verde\n",
        "        self.azul = azul\n",
        "        self.branco = branco\n",
        "        self.preto = preto\n",
        "\n",
        "    def exibir_cor(self):\n",
        "        cor_atual = input(\"Digite um número de 1 a 5: \")\n",
        "\n",
        "        try:\n",
        "            cor_atual = int(cor_atual)\n",
        "\n",
        "            if cor_atual == self.vermelho:\n",
        "                print('vermelho.')\n",
        "            elif cor_atual == self.verde:\n",
        "                print('verde')\n",
        "            elif cor_atual == self.azul:\n",
        "                print('azul')\n",
        "            elif cor_atual == self.branco:\n",
        "                print('branco')\n",
        "            elif cor_atual == self.preto:\n",
        "                print('preto')\n",
        "            else:\n",
        "                print('desconhecido')\n",
        "        except ValueError:\n",
        "            print(\"Entrada inválida. Por favor, digite um número inteiro.\")\n",
        "\n",
        "# Exemplo de uso\n",
        "minha_cor = Cor(1, 2, 3, 4, 5)\n",
        "minha_cor.exibir_cor()  # Isso solicitará ao usuário que digite um número\n",
        "\n",
        "\n"
      ],
      "metadata": {
        "id": "XTAuh5S2zoK5"
      },
      "execution_count": null,
      "outputs": []
    }
  ]
}