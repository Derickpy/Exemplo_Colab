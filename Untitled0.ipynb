{
  "nbformat": 4,
  "nbformat_minor": 0,
  "metadata": {
    "colab": {
      "provenance": [],
      "authorship_tag": "ABX9TyN/GuCWT0sHYJWFWmgLuiO3",
      "include_colab_link": true
    },
    "kernelspec": {
      "name": "python3",
      "display_name": "Python 3"
    },
    "language_info": {
      "name": "python"
    }
  },
  "cells": [
    {
      "cell_type": "markdown",
      "metadata": {
        "id": "view-in-github",
        "colab_type": "text"
      },
      "source": [
        "<a href=\"https://colab.research.google.com/github/Derickpy/Exemplo_Colab/blob/main/Untitled0.ipynb\" target=\"_parent\"><img src=\"https://colab.research.google.com/assets/colab-badge.svg\" alt=\"Open In Colab\"/></a>"
      ]
    },
    {
      "source": [
        "import pandas as pd\n",
        "import os\n",
        "from google.colab import drive\n",
        "\n",
        "# Montar o Google Drive\n",
        "drive.mount('/content/drive')\n",
        "\n",
        "def filtrar_Centros():\n",
        "    # Definindo os caminhos no Google Drive\n",
        "    CAMINHO_ARQUIVO_PRINCIPAL = \"/content/BI_IMOS_PT&G.xlsx\"\n",
        "    CAMINHO_IW28 = \"/content/IW28.xlsx\"\n",
        "    CAMINHO_RESULTADO = \"/content/IMOS.xlsx\"\n",
        "\n",
        "    # Verificar se os arquivos existem\n",
        "    for caminho in [CAMINHO_ARQUIVO_PRINCIPAL, CAMINHO_IW28]:\n",
        "        if not os.path.exists(caminho):\n",
        "            print(f\"Erro: Arquivo não encontrado - {caminho}\")\n",
        "            return\n",
        "\n",
        "    try:\n",
        "        # Ler o arquivo Excel principal\n",
        "        df = pd.read_excel(CAMINHO_ARQUIVO_PRINCIPAL)\n",
        "\n",
        "        # Ler o arquivo IW28.xlsx\n",
        "        iw28_df = pd.read_excel(CAMINHO_IW28, usecols=[0, 3])\n",
        "        iw28_df.columns = ['Nota', 'Usuario']\n",
        "\n",
        "        # Mapeamento dos centros de trabalho\n",
        "        mapeamento_centros = {\n",
        "            \"SC113\": \"PLANGECON USINA\", \"SC114\": \"PLANGECON USINA\",\n",
        "            \"SC207\": \"PLANGECON PATIO\", \"SC253\": \"PLANGECON PATIO\",\n",
        "            \"SC209\": \"USIMIG PATIO\", \"SC304\": \"USIMIG USINA\",\n",
        "            \"INSMPE\": \"INSP PATIO\", \"INSMU\": \"INSP USINA\",\n",
        "            \"TUSIA\": \"GPA A\", \"TUSIB\": \"GPA B\", \"TUSIC\": \"GPA C\", \"TUSID\": \"GPA D\",\n",
        "            \"SC89\": \"ALPINISMO USINA\", \"SC32\": \"TOPOGRAFIA USINA\",\n",
        "            \"SC16\": \"TOPOGRAFIA PATIO\", \"SC80HH08\": \"ANDAIME USINA\",\n",
        "            \"SC80HH14\": \"ANDAIME PATIO\", \"SC84\": \"2AJ\",\n",
        "            \"MUSI\": \"PREV USINA\", \"MUMP\": \"PREV PATIO\",\n",
        "            \"PCMUSI\": \"PCM USINA\", \"PCMMPE\": \"PCM PATIO\",\n",
        "        }\n",
        "\n",
        "        # Filtrar ordens com base na coluna K (índice 10)\n",
        "        df['Centro de Trabalho'] = df.iloc[:, 10].map(mapeamento_centros)\n",
        "        df_generico = df[df['Centro de Trabalho'].notna()]\n",
        "\n",
        "        if df_generico.empty:\n",
        "            print(\"Nenhuma ordem de manutenção encontrada para os centros de trabalho da Plangecon.\")\n",
        "            return\n",
        "\n",
        "        # Verificar se a coluna 'Nota' existe antes do merge\n",
        "        if 'Nota' not in df_generico.columns:\n",
        "            print(\"Erro: A coluna 'Nota' não foi encontrada no arquivo principal. Verifique os nomes das colunas.\")\n",
        "            return\n",
        "\n",
        "        # Realizar o merge usando 'Nota'\n",
        "        df_generico = df_generico.merge(iw28_df, left_on='Nota', right_on='Nota', how='left')\n",
        "\n",
        "        # Excluir colunas automaticamente\n",
        "        colunas_para_excluir_auto = [\n",
        "            'Localização', 'ATCR', 'APRI', 'Cond. Instalação', 'Hh Planej.', 'Hh Real',\n",
        "            'St. Usuário', 'OM Principal', 'Revisão', 'IP', 'DTCL', 'Item', 'Contador',\n",
        "            'Nº Solic.', 'Pacote', 'Dt. Planejada', 'GPM', 'Vlr. Comp.', 'SubOM', 'hier-6(GAR)'\n",
        "        ]\n",
        "        df_generico.drop(columns=[col for col in colunas_para_excluir_auto if col in df_generico.columns], inplace=True)\n",
        "\n",
        "        # Salvar o resultado\n",
        "        df_generico.to_excel(CAMINHO_RESULTADO, index=False)\n",
        "        print(f\"Processamento concluído! Encontradas {len(df_generico)} ordens de manutenção.\")\n",
        "        print(f\"Arquivo salvo em: {CAMINHO_RESULTADO}\")\n",
        "\n",
        "    except IndexError:\n",
        "        print(\"Erro: A coluna K não foi encontrada. Verifique se o arquivo Excel tem pelo menos 11 colunas.\")\n",
        "    except FileNotFoundError as e:\n",
        "        print(f\"Erro: Um dos arquivos não foi encontrado - {e}\")\n",
        "    except Exception as e:\n",
        "        print(f\"Ocorreu um erro: {str(e)}\")\n",
        "\n",
        "# Executar o processamento\n",
        "if __name__ == \"__main__\":\n",
        "    filtrar_Centros()\n"
      ],
      "cell_type": "code",
      "metadata": {
        "id": "boyil9sjCmjA",
        "colab": {
          "base_uri": "https://localhost:8080/"
        },
        "outputId": "3df6ef75-c84b-49d3-ac49-10c3a975b379"
      },
      "execution_count": 34,
      "outputs": [
        {
          "output_type": "stream",
          "name": "stdout",
          "text": [
            "Drive already mounted at /content/drive; to attempt to forcibly remount, call drive.mount(\"/content/drive\", force_remount=True).\n",
            "Processamento concluído! Encontradas 3752 ordens de manutenção da Plangecon.\n",
            "Arquivo salvo em: /content/IMOS.xlsx\n"
          ]
        }
      ]
    }
  ]
}